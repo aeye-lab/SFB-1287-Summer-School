{
  "nbformat": 4,
  "nbformat_minor": 0,
  "metadata": {
    "colab": {
      "provenance": []
    },
    "kernelspec": {
      "name": "python3",
      "display_name": "Python 3"
    },
    "language_info": {
      "name": "python"
    }
  },
  "cells": [
    {
      "cell_type": "markdown",
      "source": [
        "**Function**\n",
        "\n",
        "Lets start this exercise by computing the following equation: $y = wx^2$."
      ],
      "metadata": {
        "id": "dLca7AkSqsy7"
      }
    },
    {
      "cell_type": "code",
      "source": [
        "import numpy as np\n",
        "import matplotlib.pyplot as plt"
      ],
      "metadata": {
        "id": "GR6CEe2qsRa_"
      },
      "execution_count": 1,
      "outputs": []
    },
    {
      "cell_type": "code",
      "source": [
        "x = np.linspace(-2, 2, 50)\n",
        "print(x)"
      ],
      "metadata": {
        "colab": {
          "base_uri": "https://localhost:8080/"
        },
        "id": "YRVBsgnztHmO",
        "outputId": "f15d2f07-9ab8-4f5a-cac7-858892471b09"
      },
      "execution_count": 2,
      "outputs": [
        {
          "output_type": "stream",
          "name": "stdout",
          "text": [
            "[-2.         -1.91836735 -1.83673469 -1.75510204 -1.67346939 -1.59183673\n",
            " -1.51020408 -1.42857143 -1.34693878 -1.26530612 -1.18367347 -1.10204082\n",
            " -1.02040816 -0.93877551 -0.85714286 -0.7755102  -0.69387755 -0.6122449\n",
            " -0.53061224 -0.44897959 -0.36734694 -0.28571429 -0.20408163 -0.12244898\n",
            " -0.04081633  0.04081633  0.12244898  0.20408163  0.28571429  0.36734694\n",
            "  0.44897959  0.53061224  0.6122449   0.69387755  0.7755102   0.85714286\n",
            "  0.93877551  1.02040816  1.10204082  1.18367347  1.26530612  1.34693878\n",
            "  1.42857143  1.51020408  1.59183673  1.67346939  1.75510204  1.83673469\n",
            "  1.91836735  2.        ]\n"
          ]
        }
      ]
    },
    {
      "cell_type": "code",
      "source": [
        "w = 1"
      ],
      "metadata": {
        "id": "XS-JJCvZtjLJ"
      },
      "execution_count": 3,
      "outputs": []
    },
    {
      "cell_type": "code",
      "source": [
        "y = w * (x**2)\n",
        "print(y)"
      ],
      "metadata": {
        "colab": {
          "base_uri": "https://localhost:8080/"
        },
        "id": "WjuOTi4CtuwY",
        "outputId": "f063e632-c70f-4198-d441-53900649c967"
      },
      "execution_count": 4,
      "outputs": [
        {
          "output_type": "stream",
          "name": "stdout",
          "text": [
            "[4.00000000e+00 3.68013328e+00 3.37359434e+00 3.08038317e+00\n",
            " 2.80049979e+00 2.53394419e+00 2.28071637e+00 2.04081633e+00\n",
            " 1.81424406e+00 1.60099958e+00 1.40108288e+00 1.21449396e+00\n",
            " 1.04123282e+00 8.81299459e-01 7.34693878e-01 6.01416077e-01\n",
            " 4.81466056e-01 3.74843815e-01 2.81549354e-01 2.01582674e-01\n",
            " 1.34943773e-01 8.16326531e-02 4.16493128e-02 1.49937526e-02\n",
            " 1.66597251e-03 1.66597251e-03 1.49937526e-02 4.16493128e-02\n",
            " 8.16326531e-02 1.34943773e-01 2.01582674e-01 2.81549354e-01\n",
            " 3.74843815e-01 4.81466056e-01 6.01416077e-01 7.34693878e-01\n",
            " 8.81299459e-01 1.04123282e+00 1.21449396e+00 1.40108288e+00\n",
            " 1.60099958e+00 1.81424406e+00 2.04081633e+00 2.28071637e+00\n",
            " 2.53394419e+00 2.80049979e+00 3.08038317e+00 3.37359434e+00\n",
            " 3.68013328e+00 4.00000000e+00]\n"
          ]
        }
      ]
    },
    {
      "cell_type": "code",
      "source": [
        "plt.plot(x, y)\n",
        "plt.show()"
      ],
      "metadata": {
        "colab": {
          "base_uri": "https://localhost:8080/",
          "height": 430
        },
        "id": "sJTyV3C3umIE",
        "outputId": "338932d3-65d0-4d5d-e8a5-9598fb4e78fa"
      },
      "execution_count": 5,
      "outputs": [
        {
          "output_type": "display_data",
          "data": {
            "text/plain": [
              "<Figure size 640x480 with 1 Axes>"
            ],
            "image/png": "[encoded data removed]"
          },
          "metadata": {}
        }
      ]
    },
    {
      "cell_type": "markdown",
      "source": [
        "Assignment 1: change the parameter w to 2, 4, 8, -1, -2, -4, -8, and observe the output value and curve change"
      ],
      "metadata": {
        "id": "FsadxlGEvC68"
      }
    },
    {
      "cell_type": "code",
      "source": [],
      "metadata": {
        "id": "teHRlyGwzF7m"
      },
      "execution_count": null,
      "outputs": []
    },
    {
      "cell_type": "markdown",
      "source": [
        "**Linear Model**"
      ],
      "metadata": {
        "id": "sM_BUSSAvx0R"
      }
    },
    {
      "cell_type": "markdown",
      "source": [
        "**Linear Regression Model** fits a linear model with coefficients $w = (w_{1}, ..., w_{p})$ to minimize the residual sum of squares between the observed targets in the dataset, and the targets predicted by the linear approximation. Mathematically it solves a problem of the form:\n",
        "\n",
        "$\\min_{w}\\left \\| Xw-y \\right \\|_{2}^{2}$"
      ],
      "metadata": {
        "id": "0GkwOT5IzPVe"
      }
    },
    {
      "cell_type": "code",
      "source": [
        "from sklearn import linear_model"
      ],
      "metadata": {
        "id": "djvQn7plzEyG"
      },
      "execution_count": 6,
      "outputs": []
    },
    {
      "cell_type": "code",
      "source": [
        "X = [[0,0], [1,1], [2,2], [4,4], [6,6]]\n",
        "y = [0,1,2,6,8]"
      ],
      "metadata": {
        "id": "pJGyfdv20tVu"
      },
      "execution_count": 7,
      "outputs": []
    },
    {
      "cell_type": "code",
      "source": [
        "reg = linear_model.LinearRegression()\n",
        "reg.fit(X, y)"
      ],
      "metadata": {
        "colab": {
          "base_uri": "https://localhost:8080/",
          "height": 74
        },
        "id": "9sXWSOA206gb",
        "outputId": "ac4f3acc-b88e-4081-8313-b7707f20ed09"
      },
      "execution_count": 8,
      "outputs": [
        {
          "output_type": "execute_result",
          "data": {
            "text/plain": [
              "LinearRegression()"
            ],
            "text/html": [
              "<style>#sk-container-id-1 {color: black;background-color: white;}#sk-container-id-1 pre{padding: 0;}#sk-container-id-1 div.sk-toggleable {background-color: white;}#sk-container-id-1 label.sk-toggleable__label {cursor: pointer;display: block;width: 100%;margin-bottom: 0;padding: 0.3em;box-sizing: border-box;text-align: center;}#sk-container-id-1 label.sk-toggleable__label-arrow:before {content: \"▸\";float: left;margin-right: 0.25em;color: #696969;}#sk-container-id-1 label.sk-toggleable__label-arrow:hover:before {color: black;}#sk-container-id-1 div.sk-estimator:hover label.sk-toggleable__label-arrow:before {color: black;}#sk-container-id-1 div.sk-toggleable__content {max-height: 0;max-width: 0;overflow: hidden;text-align: left;background-color: #f0f8ff;}#sk-container-id-1 div.sk-toggleable__content pre {margin: 0.2em;color: black;border-radius: 0.25em;background-color: #f0f8ff;}#sk-container-id-1 input.sk-toggleable__control:checked~div.sk-toggleable__content {max-height: 200px;max-width: 100%;overflow: auto;}#sk-container-id-1 input.sk-toggleable__control:checked~label.sk-toggleable__label-arrow:before {content: \"▾\";}#sk-container-id-1 div.sk-estimator input.sk-toggleable__control:checked~label.sk-toggleable__label {background-color: #d4ebff;}#sk-container-id-1 div.sk-label input.sk-toggleable__control:checked~label.sk-toggleable__label {background-color: #d4ebff;}#sk-container-id-1 input.sk-hidden--visually {border: 0;clip: rect(1px 1px 1px 1px);clip: rect(1px, 1px, 1px, 1px);height: 1px;margin: -1px;overflow: hidden;padding: 0;position: absolute;width: 1px;}#sk-container-id-1 div.sk-estimator {font-family: monospace;background-color: #f0f8ff;border: 1px dotted black;border-radius: 0.25em;box-sizing: border-box;margin-bottom: 0.5em;}#sk-container-id-1 div.sk-estimator:hover {background-color: #d4ebff;}#sk-container-id-1 div.sk-parallel-item::after {content: \"\";width: 100%;border-bottom: 1px solid gray;flex-grow: 1;}#sk-container-id-1 div.sk-label:hover label.sk-toggleable__label {background-color: #d4ebff;}#sk-container-id-1 div.sk-serial::before {content: \"\";position: absolute;border-left: 1px solid gray;box-sizing: border-box;top: 0;bottom: 0;left: 50%;z-index: 0;}#sk-container-id-1 div.sk-serial {display: flex;flex-direction: column;align-items: center;background-color: white;padding-right: 0.2em;padding-left: 0.2em;position: relative;}#sk-container-id-1 div.sk-item {position: relative;z-index: 1;}#sk-container-id-1 div.sk-parallel {display: flex;align-items: stretch;justify-content: center;background-color: white;position: relative;}#sk-container-id-1 div.sk-item::before, #sk-container-id-1 div.sk-parallel-item::before {content: \"\";position: absolute;border-left: 1px solid gray;box-sizing: border-box;top: 0;bottom: 0;left: 50%;z-index: -1;}#sk-container-id-1 div.sk-parallel-item {display: flex;flex-direction: column;z-index: 1;position: relative;background-color: white;}#sk-container-id-1 div.sk-parallel-item:first-child::after {align-self: flex-end;width: 50%;}#sk-container-id-1 div.sk-parallel-item:last-child::after {align-self: flex-start;width: 50%;}#sk-container-id-1 div.sk-parallel-item:only-child::after {width: 0;}#sk-container-id-1 div.sk-dashed-wrapped {border: 1px dashed gray;margin: 0 0.4em 0.5em 0.4em;box-sizing: border-box;padding-bottom: 0.4em;background-color: white;}#sk-container-id-1 div.sk-label label {font-family: monospace;font-weight: bold;display: inline-block;line-height: 1.2em;}#sk-container-id-1 div.sk-label-container {text-align: center;}#sk-container-id-1 div.sk-container {/* jupyter's `normalize.less` sets `[hidden] { display: none; }` but bootstrap.min.css set `[hidden] { display: none !important; }` so we also need the `!important` here to be able to override the default hidden behavior on the sphinx rendered scikit-learn.org. See: https://github.com/scikit-learn/scikit-learn/issues/21755 */display: inline-block !important;position: relative;}#sk-container-id-1 div.sk-text-repr-fallback {display: none;}</style><div id=\"sk-container-id-1\" class=\"sk-top-container\"><div class=\"sk-text-repr-fallback\"><pre>LinearRegression()</pre><b>In a Jupyter environment, please rerun this cell to show the HTML representation or trust the notebook. <br />On GitHub, the HTML representation is unable to render, please try loading this page with nbviewer.org.</b></div><div class=\"sk-container\" hidden><div class=\"sk-item\"><div class=\"sk-estimator sk-toggleable\"><input class=\"sk-toggleable__control sk-hidden--visually\" id=\"sk-estimator-id-1\" type=\"checkbox\" checked><label for=\"sk-estimator-id-1\" class=\"sk-toggleable__label sk-toggleable__label-arrow\">LinearRegression</label><div class=\"sk-toggleable__content\"><pre>LinearRegression()</pre></div></div></div></div></div>"
            ]
          },
          "metadata": {},
          "execution_count": 8
        }
      ]
    },
    {
      "cell_type": "code",
      "source": [
        "# The coefficients\n",
        "print(\"Coefficients: \\n\", reg.coef_)"
      ],
      "metadata": {
        "colab": {
          "base_uri": "https://localhost:8080/"
        },
        "id": "iV_D9w951BlG",
        "outputId": "017875bd-c707-4b13-a01c-54dc3937c3f0"
      },
      "execution_count": 9,
      "outputs": [
        {
          "output_type": "stream",
          "name": "stdout",
          "text": [
            "Coefficients: \n",
            " [0.70689655 0.70689655]\n"
          ]
        }
      ]
    },
    {
      "cell_type": "code",
      "source": [
        "#The plot below uses only the first feature, in order to illustrate the data points within the two-dimensional plot.\n",
        "vis_feature = [x[0] for x in X]"
      ],
      "metadata": {
        "id": "4caoqF3v2DB9"
      },
      "execution_count": 10,
      "outputs": []
    },
    {
      "cell_type": "code",
      "source": [
        "# Plot outputs\n",
        "plt.scatter(vis_feature, y, color=\"black\")\n",
        "plt.plot(vis_feature, reg.predict(X),color='green')"
      ],
      "metadata": {
        "colab": {
          "base_uri": "https://localhost:8080/",
          "height": 448
        },
        "id": "JXvRANlC1C3C",
        "outputId": "1f952bb3-9dcb-48d1-f290-7347e1f29130"
      },
      "execution_count": 11,
      "outputs": [
        {
          "output_type": "execute_result",
          "data": {
            "text/plain": [
              "[<matplotlib.lines.Line2D at 0x79dfceccde10>]"
            ]
          },
          "metadata": {},
          "execution_count": 11
        },
        {
          "output_type": "display_data",
          "data": {
            "text/plain": [
              "<Figure size 640x480 with 1 Axes>"
            ],
            "image/png": "[encoded data removed]"
          },
          "metadata": {}
        }
      ]
    },
    {
      "cell_type": "markdown",
      "source": [
        "Assignment 2: change the feature X and label y, refit the model and observe how the parameter changes."
      ],
      "metadata": {
        "id": "s5gKNQYe5PnW"
      }
    },
    {
      "cell_type": "code",
      "source": [],
      "metadata": {
        "id": "3mkTgaZj5sSG"
      },
      "execution_count": null,
      "outputs": []
    }
  ]
}
